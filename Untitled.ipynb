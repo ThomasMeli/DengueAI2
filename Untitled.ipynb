{
 "cells": [
  {
   "cell_type": "code",
   "execution_count": null,
   "metadata": {},
   "outputs": [],
   "source": [
    "test_first_diff = pd.read_csv(feat_eng_path + \"test_first_diff.csv\")\n",
    "test_sec_diff = pd.read_csv(feat_eng_path + \"test_sec_diff.csv\")\n",
    "test_pct_change = pd.read_csv(feat_eng_path + \"test_pct_change.csv\")\n",
    "\n",
    "X_test = X_test.join(test_first_diff, on = X_test.index)\n",
    "X_test = X_test.join(test_sec_diff, on = X_test.index)\n",
    "X_test = X_test.join(test_pct_change, on = X_test.index)"
   ]
  }
 ],
 "metadata": {
  "kernelspec": {
   "display_name": "Python 3",
   "language": "python",
   "name": "python3"
  },
  "language_info": {
   "codemirror_mode": {
    "name": "ipython",
    "version": 3
   },
   "file_extension": ".py",
   "mimetype": "text/x-python",
   "name": "python",
   "nbconvert_exporter": "python",
   "pygments_lexer": "ipython3",
   "version": "3.8.2"
  }
 },
 "nbformat": 4,
 "nbformat_minor": 4
}
