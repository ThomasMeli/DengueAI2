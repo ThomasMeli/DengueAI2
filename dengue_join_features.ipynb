{
 "cells": [
  {
   "cell_type": "code",
   "execution_count": 3,
   "metadata": {},
   "outputs": [],
   "source": [
    "import seaborn as sns\n",
    "import pandas as pd\n",
    "import numpy as np\n",
    "\n",
    "import matplotlib.pyplot as plt\n",
    "\n",
    "import sklearn\n",
    "from sklearn.ensemble import ExtraTreesRegressor\n"
   ]
  },
  {
   "cell_type": "code",
   "execution_count": 2,
   "metadata": {},
   "outputs": [],
   "source": [
    "sj_is_missing = pd.read_csv(\"../deng_features/sj_is_missing.csv\")\n",
    "iq_is_missing = pd.read_csv(\"../deng_features/iq_is_missing.csv\")\n",
    "\n",
    "X_sj_filled_ii = pd.read_csv(\"../deng_features/X_sj_filled_ii.csv\")\n",
    "X_iq_filled_ii = pd.read_csv(\"../deng_features/X_iq_filled_ii.csv\")\n",
    "X_train_filled_ii = pd.concat([X_sj_filled_ii, X_iq_filled_ii])\n",
    "\n",
    "X_test_sj_filled_ii = pd.read_csv(\"../deng_features/X_test_sj_filled_ii.csv\")\n",
    "X_test_iq_filled_ii = pd.read_csv(\"../deng_features/X_test_iq_filled_ii.csv\")\n",
    "X_test_filled_ii = pd.concat([X_test_sj_filled_ii, X_test_iq_filled_ii])\n",
    "\n",
    "X_sj_filled_interp = pd.read_csv(\"../deng_features/X_sj_filled_interp.csv\")\n",
    "X_iq_filled_interp = pd.read_csv(\"../deng_features/X_iq_filled_interp.csv\")\n",
    "X_train_filled_interp = pd.concat([X_sj_filled_interp, X_iq_filled_interp])\n",
    "\n",
    "X_test_sj_filled_interp = pd.read_csv(\"../deng_features/X_test_sj_filled_interp.csv\")\n",
    "X_test_iq_filled_interp = pd.read_csv(\"../deng_features/X_test_iq_filled_interp.csv\")\n",
    "X_test_filled_interp = pd.concat([X_test_sj_filled_interp, X_test_iq_filled_interp])\n",
    "\n",
    "X_train_is_missing = pd.read_csv(\"../deng_features/X_train_is_missing.csv\")\n",
    "X_test_is_missing = pd.read_csv(\"../deng_features/X_test_is_missing.csv\")"
   ]
  },
  {
   "cell_type": "code",
   "execution_count": null,
   "metadata": {},
   "outputs": [],
   "source": []
  }
 ],
 "metadata": {
  "kernelspec": {
   "display_name": "Python 3",
   "language": "python",
   "name": "python3"
  },
  "language_info": {
   "codemirror_mode": {
    "name": "ipython",
    "version": 3
   },
   "file_extension": ".py",
   "mimetype": "text/x-python",
   "name": "python",
   "nbconvert_exporter": "python",
   "pygments_lexer": "ipython3",
   "version": "3.8.2"
  }
 },
 "nbformat": 4,
 "nbformat_minor": 4
}
